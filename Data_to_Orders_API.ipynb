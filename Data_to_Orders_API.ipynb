{
 "cells": [
  {
   "cell_type": "code",
   "execution_count": null,
   "metadata": {},
   "outputs": [],
   "source": [
    "# Important note: This workflow shown on this notebook is only an example\n",
    "# on how to work with Data API and Orders API. It is NOT a definite or\n",
    "# the only way to streamline Data/Orders API process. You're free to modify and \n",
    "# adjust to your workflow. Planet is NOT responsible or liable in case of\n",
    "# any loss occured when you're using this notebook. "
   ]
  },
  {
   "cell_type": "code",
   "execution_count": null,
   "metadata": {},
   "outputs": [],
   "source": [
    "# Import all required modules\n",
    "from __future__ import print_function\n",
    "import requests\n",
    "import time\n",
    "import os\n",
    "import folium\n",
    "import json\n",
    "from requests.auth import HTTPBasicAuth\n",
    "import geopandas\n",
    "from shapely.geometry import shape\n",
    "\n",
    "# Insert your api key here\n",
    "PLANET_API_KEY = \"planet_api_key\""
   ]
  },
  {
   "cell_type": "markdown",
   "metadata": {},
   "source": [
    "# 1. Find imagery using Data API"
   ]
  },
  {
   "cell_type": "code",
   "execution_count": null,
   "metadata": {},
   "outputs": [],
   "source": [
    "# Get your AOI files\n",
    "aoi_fpath = r\"my_aoi.geojson\" \n",
    "with open(aoi_fpath) as f:\n",
    "    geom = json.load(f)\n",
    "\n",
    "with open(aoi_fpath) as AOI_geom:\n",
    "    data = json.load(AOI_geom)['features']\n",
    "    my_aoi = data[0]['geometry']"
   ]
  },
  {
   "cell_type": "code",
   "execution_count": null,
   "metadata": {},
   "outputs": [],
   "source": [
    "# Double check the AOI\n",
    "display_map = folium.Map(tiles='OpenStreetMap', zoom_start=9)\n",
    "folium.GeoJson(my_aoi, name='geojson').add_to(display_map)\n",
    "display_map"
   ]
  },
  {
   "cell_type": "code",
   "execution_count": null,
   "metadata": {},
   "outputs": [],
   "source": [
    "# get images that overlap with your AOI \n",
    "geometry_filter = {\n",
    "  \"type\": \"GeometryFilter\",\n",
    "  \"field_name\": \"geometry\",\n",
    "  \"config\": my_aoi\n",
    "}\n",
    "\n",
    "# get images acquired within a date range\n",
    "date_range_filter = {\n",
    "  \"type\": \"DateRangeFilter\",\n",
    "  \"field_name\": \"acquired\",\n",
    "  \"config\": {\n",
    "    \"gte\": \"2022-07-01T00:00:00.000Z\",\n",
    "    \"lte\": \"2022-08-02T00:00:00.000Z\"\n",
    "  }\n",
    "}\n",
    "\n",
    "# only get images which have <15% cloud coverage\n",
    "cloud_cover_filter = {\n",
    "  \"type\": \"RangeFilter\",\n",
    "  \"field_name\": \"cloud_percent\",\n",
    "  \"config\": {\n",
    "    \"lte\": 15\n",
    "  }\n",
    "}\n",
    "\n",
    "# only get images captured with PSB.SD (SuperDoves) - other instrument PS2 (Dove Classic), PS2.SD (Dove-R) \n",
    "instrument_filter = {\n",
    "   \"type\":\"StringInFilter\",\n",
    "   \"field_name\":\"instrument\",\n",
    "   \"config\":[\"PSB.SD\"]\n",
    "}\n",
    "\n",
    "# only get standard quality images\n",
    "quality_filter = {\n",
    "   \"type\":\"StringInFilter\",\n",
    "   \"field_name\":\"quality_category\",\n",
    "   \"config\":[\"standard\"]\n",
    "}\n",
    "\n",
    "# combine our geo, date, cloud filters - other filters can be reffered in https://developers.planet.com/docs/apis/data/searches-filtering/\n",
    "combined_filter = {\n",
    "  \"type\": \"AndFilter\",\n",
    "  \"config\": [geometry_filter, date_range_filter, cloud_cover_filter, instrument_filter, quality_filter]\n",
    "}"
   ]
  },
  {
   "cell_type": "code",
   "execution_count": null,
   "metadata": {},
   "outputs": [],
   "source": [
    "# Defined item-type - other item type can be referred in https://developers.planet.com/docs/apis/data/items-assets/\n",
    "item_type = \"PSScene\"\n",
    "\n",
    "# API request object\n",
    "search_request = {\n",
    "  \"item_types\": [item_type], \n",
    "  \"filter\": combined_filter\n",
    "}\n",
    "\n",
    "# fire off the POST request to Data API/quick-search endpoint\n",
    "search_result = \\\n",
    "  requests.post(\n",
    "    'https://api.planet.com/data/v1/quick-search',auth=HTTPBasicAuth(PLANET_API_KEY,''),\n",
    "    json=search_request)\n",
    "\n",
    "result = search_result.json()\n",
    "\n",
    "# List all the image ids\n",
    "image_ids = [feature['id'] for feature in search_result.json()['features']] \n",
    "print(image_ids)"
   ]
  },
  {
   "cell_type": "markdown",
   "metadata": {},
   "source": [
    "# 2. Visualize footprint results (Optional)"
   ]
  },
  {
   "cell_type": "code",
   "execution_count": null,
   "metadata": {},
   "outputs": [],
   "source": [
    "# Get image footprints from results\n",
    "item_footprint = geopandas.GeoDataFrame.from_features(result['features'])\n",
    "item_footprint.crs = 4326 \n",
    "item_footprint_geom = item_footprint.to_json()"
   ]
  },
  {
   "cell_type": "code",
   "execution_count": null,
   "metadata": {
    "scrolled": false
   },
   "outputs": [],
   "source": [
    "# Double check\n",
    "display_map = folium.Map(tiles='OpenStreetMap', zoom_start=9)\n",
    "folium.GeoJson(item_footprint_geom, name='footprint').add_to(display_map)\n",
    "folium.GeoJson(my_aoi, name='aoi').add_to(display_map)\n",
    "folium.LayerControl().add_to(display_map)\n",
    "display_map"
   ]
  },
  {
   "cell_type": "markdown",
   "metadata": {},
   "source": [
    "# 3. Downloading selected images via Orders API"
   ]
  },
  {
   "cell_type": "code",
   "execution_count": null,
   "metadata": {},
   "outputs": [],
   "source": [
    "# Prepare the payload - additional raster tool can be referred in https://developers.planet.com/docs/orders/tools-reference/ \n",
    "# Item-type and product bundle reference https://developers.planet.com/docs/orders/product-bundles-reference/ \n",
    "payload = {\n",
    "  \"name\": \"my imagery order\",\n",
    "  \"products\":[\n",
    "    {\n",
    "      \"item_ids\": image_ids,\n",
    "     \"item_type\": \"PSScene\",\n",
    "    \"product_bundle\": \"analytic_udm2\"\n",
    "    }\n",
    "  ],\n",
    "  \"tools\": [\n",
    "    {\n",
    "      \"clip\": {\n",
    "        \"aoi\": my_aoi\n",
    "      }\n",
    "    }\n",
    "  ]\n",
    "}\n",
    "\n",
    "print(payload)"
   ]
  },
  {
   "cell_type": "code",
   "execution_count": null,
   "metadata": {},
   "outputs": [],
   "source": [
    "headers = {\n",
    "    'Content-Type': 'application/json'\n",
    "    }\n",
    "order = \\\n",
    "  requests.post('https://api.planet.com/compute/ops/orders/v2/', headers=headers, data=json.dumps(payload), auth=HTTPBasicAuth(PLANET_API_KEY,''))\n",
    "\n",
    "response = order.json()\n",
    "print(response)"
   ]
  },
  {
   "cell_type": "code",
   "execution_count": null,
   "metadata": {},
   "outputs": [],
   "source": [
    "# Get order status\n",
    "state = \"running\"\n",
    "while state == \"running\":\n",
    "    return_data = requests.get(order.json()['_links']['_self'],auth=(PLANET_API_KEY, ''))\n",
    "    state = return_data.json()['state']\n",
    "    print(\"status: \",state)\n",
    "    if state == 'running':\n",
    "        time.sleep(25)"
   ]
  },
  {
   "cell_type": "code",
   "execution_count": null,
   "metadata": {},
   "outputs": [],
   "source": [
    "# Start downloading\n",
    "\n",
    "def download_file(url,name):\n",
    "    # NOTE the stream=True parameter\n",
    "    r = requests.get(url, stream=True,auth=(PLANET_API_KEY, ''))\n",
    "    with open(name, 'wb') as f:\n",
    "        total_length = int(r.headers.get('content-length'))\n",
    "        i = 0\n",
    "        for chunk in r.iter_content(chunk_size=1024): \n",
    "            if chunk: # filter out keep-alive new chunks\n",
    "                f.write(chunk)\n",
    "                i += 1024\n",
    "                print(\"Downloading (%)... {}\".format(round(i/float(total_length)*100,4)),end='\\r')\n",
    "        print(\"Downloading (%)... 100.0000\",end='\\r')\n",
    "    return 0"
   ]
  },
  {
   "cell_type": "code",
   "execution_count": null,
   "metadata": {},
   "outputs": [],
   "source": [
    "download_dir = 'C:\\\\Users\\\\emir\\\\Documents\\\\Project\\\\Customer Onboarding\\\\CSE-736\\\\'\n",
    "count = 0\n",
    "for val in return_data.json()['_links']['results']:\n",
    "    if \"AnalyticMS_clip\" in str(val['name']):\n",
    "        count += 1\n",
    "#         print (download_dir+val['name'].split(\"/\")[-1])\n",
    "        print ('\\nFile {}/{}'.format(count, len(image_ids)))\n",
    "        download_file(val['location'], download_dir+val['name'].split(\"/\")[-1])"
   ]
  },
  {
   "cell_type": "code",
   "execution_count": null,
   "metadata": {},
   "outputs": [],
   "source": []
  }
 ],
 "metadata": {
  "kernelspec": {
   "display_name": "Python 3 (ipykernel)",
   "language": "python",
   "name": "python3"
  },
  "language_info": {
   "codemirror_mode": {
    "name": "ipython",
    "version": 3
   },
   "file_extension": ".py",
   "mimetype": "text/x-python",
   "name": "python",
   "nbconvert_exporter": "python",
   "pygments_lexer": "ipython3",
   "version": "3.7.12"
  }
 },
 "nbformat": 4,
 "nbformat_minor": 2
}
